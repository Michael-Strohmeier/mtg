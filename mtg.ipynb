{
  "nbformat": 4,
  "nbformat_minor": 0,
  "metadata": {
    "colab": {
      "name": "mtg.ipynb",
      "provenance": []
    },
    "kernelspec": {
      "name": "python3",
      "display_name": "Python 3"
    },
    "language_info": {
      "name": "python"
    }
  },
  "cells": [
    {
      "cell_type": "code",
      "metadata": {
        "id": "-8fvNvcCNDjH"
      },
      "source": [
        "!git clone https://github.com/MtgUnofficial/mtgu-cards.git\n",
        "!pip install pytesseract\n",
        "!pip install opencv-python\n",
        "!pip install matplotlib\n",
        "!pip install numpy\n",
        "!pip3 install torch==1.8.1+cu111 torchvision==0.9.1+cu111 torchaudio==0.8.1 -f https://download.pytorch.org/whl/torch_stable.html\n",
        "!pip install easyocr"
      ],
      "execution_count": null,
      "outputs": []
    },
    {
      "cell_type": "code",
      "metadata": {
        "id": "o04XsTXCNGiv"
      },
      "source": [
        "import os\n",
        "from PIL import Image\n",
        "from pytesseract import pytesseract\n",
        "import cv2\n",
        "import numpy as np\n",
        "import easyocr\n",
        "import matplotlib.pyplot as plt\n",
        "from tqdm import tqdm\n",
        "import pickle\n",
        "\n",
        "def recognize_text(img_path):  \n",
        "  reader = easyocr.Reader(['en'])\n",
        "  return reader.readtext(img_path)"
      ],
      "execution_count": null,
      "outputs": []
    },
    {
      "cell_type": "code",
      "metadata": {
        "id": "Bx7Gy1qkNGqK"
      },
      "source": [
        "img_path = \"/content/mtgu-cards/images\"\n",
        "arr = os.listdir(img_path)"
      ],
      "execution_count": null,
      "outputs": []
    },
    {
      "cell_type": "code",
      "metadata": {
        "id": "qQph1uJLNGsV"
      },
      "source": [
        "img_num = 0\n",
        "\n",
        "result = recognize_text(f\"{img_path}/{arr[img_num]}\")\n",
        "print(result[0][1])\n",
        "\n",
        "img = Image.open(f\"{img_path}/{arr[img_num]}\")\n",
        "img"
      ],
      "execution_count": null,
      "outputs": []
    },
    {
      "cell_type": "code",
      "metadata": {
        "id": "Ei1zFhe8NGul"
      },
      "source": [
        "n = 0\n",
        "\n",
        "temp = []\n",
        "for card in tqdm(arr[n * 1000: n * 1000 + 1000]):\n",
        "  result = recognize_text(f\"{img_path}/{card}\")\n",
        "  card_name = result[0][1]\n",
        "\n",
        "  print(card_name)\n",
        "\n",
        "  temp.append([card, card_name])"
      ],
      "execution_count": null,
      "outputs": []
    },
    {
      "cell_type": "code",
      "metadata": {
        "id": "TaodL68xNGxF"
      },
      "source": [
        "pickle.dump(temp, open(f\"mtg_{n * 1000}.pickle\", \"wb\"))"
      ],
      "execution_count": null,
      "outputs": []
    },
    {
      "cell_type": "code",
      "metadata": {
        "id": "YGB4INVZNGzR"
      },
      "source": [
        ""
      ],
      "execution_count": null,
      "outputs": []
    },
    {
      "cell_type": "code",
      "metadata": {
        "id": "F5HtOsskNG17"
      },
      "source": [
        "file_name = \"temp.pickle\"\n",
        "temp = pickle.load(open({file_name}, \"rb\"))"
      ],
      "execution_count": null,
      "outputs": []
    }
  ]
}